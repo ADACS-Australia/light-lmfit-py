{
 "metadata": {
  "name": ""
 },
 "nbformat": 3,
 "nbformat_minor": 0,
 "worksheets": [
  {
   "cells": [
    {
     "cell_type": "markdown",
     "metadata": {},
     "source": [
      "The ``Model`` class is a flexible, concise curve fitter. I will illustrate fitting example data to an exponential decay."
     ]
    },
    {
     "cell_type": "code",
     "collapsed": false,
     "input": [
      "def decay(t, N, tau):\n",
      "    return N*np.exp(-t/tau)"
     ],
     "language": "python",
     "metadata": {},
     "outputs": [],
     "prompt_number": 1
    },
    {
     "cell_type": "markdown",
     "metadata": {},
     "source": [
      "The parameters are in no particular order. We'll need some example data. I will use ``N=7`` and ``tau=3``, and I'll add a little noise."
     ]
    },
    {
     "cell_type": "code",
     "collapsed": false,
     "input": [
      "t = np.linspace(0, 5, num=1000)\n",
      "data = decay(t, 7, 3) + np.random.randn(*t.shape)"
     ],
     "language": "python",
     "metadata": {},
     "outputs": [],
     "prompt_number": 2
    },
    {
     "cell_type": "markdown",
     "metadata": {},
     "source": [
      "### Simplest Usage"
     ]
    },
    {
     "cell_type": "code",
     "collapsed": false,
     "input": [
      "from lmfit import Model\n",
      "\n",
      "model = Model(decay, independent_vars=['t'])\n",
      "result = model.fit(data, t=t, N=10, tau=1)"
     ],
     "language": "python",
     "metadata": {},
     "outputs": [],
     "prompt_number": 3
    },
    {
     "cell_type": "markdown",
     "metadata": {},
     "source": [
      "The Model infers the parameter names by inspecting the arguments of the function, ``decay``. Then I passed the independent variable, ``t``, and initial guesses for each parameter. A residual function is automatically defined, and a least-squared regression is performed.\n",
      "\n",
      "We can immediately see the best-fit values"
     ]
    },
    {
     "cell_type": "code",
     "collapsed": false,
     "input": [
      "result.values"
     ],
     "language": "python",
     "metadata": {},
     "outputs": [
      {
       "metadata": {},
       "output_type": "pyout",
       "prompt_number": 4,
       "text": [
        "{'N': 6.7455289205182041, 'tau': 3.0917922828308022}"
       ]
      }
     ],
     "prompt_number": 4
    },
    {
     "cell_type": "markdown",
     "metadata": {},
     "source": [
      "and easily pass those to the original model function for plotting:"
     ]
    },
    {
     "cell_type": "code",
     "collapsed": false,
     "input": [
      "plot(t, data)  # data\n",
      "plot(t, decay(t=t, **result.values))  # best-fit model"
     ],
     "language": "python",
     "metadata": {},
     "outputs": [
      {
       "metadata": {},
       "output_type": "pyout",
       "prompt_number": 5,
       "text": [
        "[<matplotlib.lines.Line2D at 0x107762210>]"
       ]
      },
      {
       "metadata": {},
       "output_type": "display_data",
       "png": "[encoded data removed]",
       "text": [
        "<matplotlib.figure.Figure at 0x107762250>"
       ]
      }
     ],
     "prompt_number": 5
    },
    {
     "cell_type": "markdown",
     "metadata": {},
     "source": [
      "We can review the best-fit Parameters in more detail."
     ]
    },
    {
     "cell_type": "code",
     "collapsed": false,
     "input": [
      "result.params"
     ],
     "language": "python",
     "metadata": {},
     "outputs": [
      {
       "metadata": {},
       "output_type": "pyout",
       "prompt_number": 6,
       "text": [
        "Parameters([('tau', <Parameter 'tau', value=3.0917922828308022 +/- 0.0698, bounds=[-inf:inf]>), ('N', <Parameter 'N', value=6.7455289205182041 +/- 0.087, bounds=[-inf:inf]>)])"
       ]
      }
     ],
     "prompt_number": 6
    },
    {
     "cell_type": "markdown",
     "metadata": {},
     "source": [
      "More information about the fit is stored in the result,which is an [``lmfit.Mimimizer``](http://newville.github.io/lmfit-py/fitting.html#Minimizer) object."
     ]
    },
    {
     "cell_type": "markdown",
     "metadata": {},
     "source": [
      "### Specifying Bounds and Holding Parameters Constant"
     ]
    },
    {
     "cell_type": "markdown",
     "metadata": {},
     "source": [
      "Above, the ``Model`` class implicitly builds ``Parameter`` objects from keyword arguments of ``fit`` that match the argments of ``decay``. You can build the ``Parameter`` objects explicity; the following is equivalent."
     ]
    },
    {
     "cell_type": "code",
     "collapsed": false,
     "input": [
      "from lmfit import Parameter\n",
      "\n",
      "result = model.fit(data, t=t, \n",
      "                   N=Parameter(value=10), \n",
      "                   tau=Parameter(value=1))\n",
      "result.params"
     ],
     "language": "python",
     "metadata": {},
     "outputs": [
      {
       "metadata": {},
       "output_type": "pyout",
       "prompt_number": 7,
       "text": [
        "Parameters([('tau', <Parameter 'tau', value=3.0917922828308022 +/- 0.0698, bounds=[-inf:inf]>), ('N', <Parameter 'N', value=6.7455289205182041 +/- 0.087, bounds=[-inf:inf]>)])"
       ]
      }
     ],
     "prompt_number": 7
    },
    {
     "cell_type": "markdown",
     "metadata": {},
     "source": [
      "By building ``Parameter`` objects explicitly, you can specify bounds (``min``, ``max``) and set parameters constant (``vary=False``)."
     ]
    },
    {
     "cell_type": "code",
     "collapsed": false,
     "input": [
      "result = model.fit(data, t=t, \n",
      "                   N=Parameter(value=7, vary=False), \n",
      "                   tau=Parameter(value=1, min=0))\n",
      "result.params"
     ],
     "language": "python",
     "metadata": {},
     "outputs": [
      {
       "metadata": {},
       "output_type": "pyout",
       "prompt_number": 8,
       "text": [
        "Parameters([('tau', <Parameter 'tau', value=2.944458546098438 +/- 0.0419, bounds=[0:inf]>), ('N', <Parameter 'N', value=7 (fixed), bounds=[-inf:inf]>)])"
       ]
      }
     ],
     "prompt_number": 8
    },
    {
     "cell_type": "markdown",
     "metadata": {},
     "source": [
      "### Defining Parameters in Advance"
     ]
    },
    {
     "cell_type": "markdown",
     "metadata": {},
     "source": [
      "Passing parameters to ``fit`` can become unwieldly. As an alternative, you can extract the parameters from ``model`` like so, set them individually, and pass them to ``fit``."
     ]
    },
    {
     "cell_type": "code",
     "collapsed": false,
     "input": [
      "params = model.params()"
     ],
     "language": "python",
     "metadata": {},
     "outputs": [],
     "prompt_number": 9
    },
    {
     "cell_type": "code",
     "collapsed": false,
     "input": [
      "params['N'].value = 10  # initial guess\n",
      "params['tau'].value = 1\n",
      "params['tau'].min = 0"
     ],
     "language": "python",
     "metadata": {},
     "outputs": [],
     "prompt_number": 10
    },
    {
     "cell_type": "code",
     "collapsed": false,
     "input": [
      "result = model.fit(data, params, t=t)\n",
      "result.params"
     ],
     "language": "python",
     "metadata": {},
     "outputs": [
      {
       "metadata": {},
       "output_type": "pyout",
       "prompt_number": 11,
       "text": [
        "Parameters([('tau', <Parameter 'tau', value=3.0917922824129658 +/- 0.0698, bounds=[0:inf]>), ('N', <Parameter 'N', value=6.7455289209497611 +/- 0.087, bounds=[-inf:inf]>)])"
       ]
      }
     ],
     "prompt_number": 11
    },
    {
     "cell_type": "markdown",
     "metadata": {},
     "source": [
      "Keyword arguments override ``params``, resetting ``value`` and all other properties (``min``, ``max``, ``vary``)."
     ]
    },
    {
     "cell_type": "code",
     "collapsed": false,
     "input": [
      "result = model.fit(data, params, t=t, tau=1)\n",
      "result.params"
     ],
     "language": "python",
     "metadata": {},
     "outputs": [
      {
       "metadata": {},
       "output_type": "pyout",
       "prompt_number": 12,
       "text": [
        "Parameters([('tau', <Parameter 'tau', value=3.0917922828308022 +/- 0.0698, bounds=[-inf:inf]>), ('N', <Parameter 'N', value=6.7455289205182041 +/- 0.087, bounds=[-inf:inf]>)])"
       ]
      }
     ],
     "prompt_number": 12
    },
    {
     "cell_type": "markdown",
     "metadata": {},
     "source": [
      "The input parameters are not modified by ``fit``. They can be reused, retaining the same initial value. If you want to use the result of one fit as the initial guess for the next, simply pass ``params=result.params``."
     ]
    },
    {
     "cell_type": "markdown",
     "metadata": {},
     "source": [
      "### A Helpful Exception"
     ]
    },
    {
     "cell_type": "markdown",
     "metadata": {},
     "source": [
      "All this implicit magic makes it very easy for the user to neglect to set a parameter. The ``fit`` function checks for this and raises a helpful exception."
     ]
    },
    {
     "cell_type": "code",
     "collapsed": false,
     "input": [
      "result = model.fit(data, t=t, tau=1)  # N unspecified"
     ],
     "language": "python",
     "metadata": {},
     "outputs": [
      {
       "ename": "ValueError",
       "evalue": "Assign each parameter an initial value by passing Parameters or keyword arguments to fit().",
       "output_type": "pyerr",
       "traceback": [
        "\u001b[0;31m---------------------------------------------------------------------------\u001b[0m\n\u001b[0;31mValueError\u001b[0m                                Traceback (most recent call last)",
        "\u001b[0;32m<ipython-input-13-6d8fedbef3f8>\u001b[0m in \u001b[0;36m<module>\u001b[0;34m()\u001b[0m\n\u001b[0;32m----> 1\u001b[0;31m \u001b[0mresult\u001b[0m \u001b[0;34m=\u001b[0m \u001b[0mmodel\u001b[0m\u001b[0;34m.\u001b[0m\u001b[0mfit\u001b[0m\u001b[0;34m(\u001b[0m\u001b[0mdata\u001b[0m\u001b[0;34m,\u001b[0m \u001b[0mt\u001b[0m\u001b[0;34m=\u001b[0m\u001b[0mt\u001b[0m\u001b[0;34m,\u001b[0m \u001b[0mtau\u001b[0m\u001b[0;34m=\u001b[0m\u001b[0;36m1\u001b[0m\u001b[0;34m)\u001b[0m  \u001b[0;31m# N unspecified\u001b[0m\u001b[0;34m\u001b[0m\u001b[0m\n\u001b[0m",
        "\u001b[0;32m/Users/danielallan/Documents/Repos/lmfit-py/lmfit/model.pyc\u001b[0m in \u001b[0;36mfit\u001b[0;34m(self, data, params, sigma, **kwargs)\u001b[0m\n\u001b[1;32m    169\u001b[0m             raise ValueError(\"Assign each parameter an initial value by \" +\n\u001b[1;32m    170\u001b[0m                              \u001b[0;34m\"passing Parameters or keyword arguments to \"\u001b[0m \u001b[0;34m+\u001b[0m\u001b[0;34m\u001b[0m\u001b[0m\n\u001b[0;32m--> 171\u001b[0;31m                              \"fit().\")\n\u001b[0m\u001b[1;32m    172\u001b[0m \u001b[0;34m\u001b[0m\u001b[0m\n\u001b[1;32m    173\u001b[0m         \u001b[0;31m# Handle null/missing values.\u001b[0m\u001b[0;34m\u001b[0m\u001b[0;34m\u001b[0m\u001b[0m\n",
        "\u001b[0;31mValueError\u001b[0m: Assign each parameter an initial value by passing Parameters or keyword arguments to fit()."
       ]
      }
     ],
     "prompt_number": 13
    },
    {
     "cell_type": "markdown",
     "metadata": {},
     "source": [
      "An *extra* parameter that cannot be matched to the model function will throw a ``UserWarning``, but it will not raise, leaving open the possibility of unforeseen extensions calling for some parameters."
     ]
    },
    {
     "cell_type": "markdown",
     "metadata": {},
     "source": [
      "### Weighted Fits"
     ]
    },
    {
     "cell_type": "markdown",
     "metadata": {},
     "source": [
      "Use the ``sigma`` argument to perform a weighted fit. If you prefer to think of the fit in term of ``weights``, ``sigma=1/weights``."
     ]
    },
    {
     "cell_type": "code",
     "collapsed": false,
     "input": [
      "weights = np.arange(len(data))\n",
      "result = model.fit(data, params, t=t, sigma=1./weights)\n",
      "result.params"
     ],
     "language": "python",
     "metadata": {},
     "outputs": [
      {
       "metadata": {},
       "output_type": "pyout",
       "prompt_number": 14,
       "text": [
        "Parameters([('tau', <Parameter 'tau', value=3.1167917924195434 +/- 0.112, bounds=[0:inf]>), ('N', <Parameter 'N', value=6.7001365077097272 +/- 0.249, bounds=[-inf:inf]>)])"
       ]
      }
     ],
     "prompt_number": 14
    },
    {
     "cell_type": "markdown",
     "metadata": {},
     "source": [
      "### Handling Missing Data"
     ]
    },
    {
     "cell_type": "markdown",
     "metadata": {},
     "source": [
      "By default, attemping to fit data that includes a ``NaN``, which conventionally indicates a \"missing\" observation, raises a lengthy exception. You can choose to drop (i.e., skip over) missing values instead."
     ]
    },
    {
     "cell_type": "code",
     "collapsed": false,
     "input": [
      "data_with_holes = data.copy()\n",
      "data_with_holes[[5, 8, 13]] = np.nan  # Replace arbitrary values with NaN.\n",
      "\n",
      "model = Model(decay, independent_vars=['t'], missing='drop')\n",
      "result = model.fit(data_with_holes, params, t=t)\n",
      "result.params"
     ],
     "language": "python",
     "metadata": {},
     "outputs": [
      {
       "metadata": {},
       "output_type": "pyout",
       "prompt_number": 15,
       "text": [
        "Parameters([('tau', <Parameter 'tau', value=3.0916521958295222 +/- 0.0702, bounds=[0:inf]>), ('N', <Parameter 'N', value=6.7458800490717028 +/- 0.0879, bounds=[-inf:inf]>)])"
       ]
      }
     ],
     "prompt_number": 15
    },
    {
     "cell_type": "markdown",
     "metadata": {},
     "source": [
      "If you don't want to ignore missing values, you can set the model to raise proactively, checking for missing values before attempting the fit."
     ]
    },
    {
     "cell_type": "code",
     "collapsed": false,
     "input": [
      "model = Model(decay, independent_vars=['t'], missing='raise')\n",
      "result = model.fit(data_with_holes, params, t=t)"
     ],
     "language": "python",
     "metadata": {},
     "outputs": [
      {
       "ename": "ValueError",
       "evalue": "Data contains a null value.",
       "output_type": "pyerr",
       "traceback": [
        "\u001b[0;31m---------------------------------------------------------------------------\u001b[0m\n\u001b[0;31mValueError\u001b[0m                                Traceback (most recent call last)",
        "\u001b[0;32m<ipython-input-16-788e0b6b627f>\u001b[0m in \u001b[0;36m<module>\u001b[0;34m()\u001b[0m\n\u001b[1;32m      1\u001b[0m \u001b[0mmodel\u001b[0m \u001b[0;34m=\u001b[0m \u001b[0mModel\u001b[0m\u001b[0;34m(\u001b[0m\u001b[0mdecay\u001b[0m\u001b[0;34m,\u001b[0m \u001b[0mindependent_vars\u001b[0m\u001b[0;34m=\u001b[0m\u001b[0;34m[\u001b[0m\u001b[0;34m't'\u001b[0m\u001b[0;34m]\u001b[0m\u001b[0;34m,\u001b[0m \u001b[0mmissing\u001b[0m\u001b[0;34m=\u001b[0m\u001b[0;34m'raise'\u001b[0m\u001b[0;34m)\u001b[0m\u001b[0;34m\u001b[0m\u001b[0m\n\u001b[0;32m----> 2\u001b[0;31m \u001b[0mresult\u001b[0m \u001b[0;34m=\u001b[0m \u001b[0mmodel\u001b[0m\u001b[0;34m.\u001b[0m\u001b[0mfit\u001b[0m\u001b[0;34m(\u001b[0m\u001b[0mdata_with_holes\u001b[0m\u001b[0;34m,\u001b[0m \u001b[0mparams\u001b[0m\u001b[0;34m,\u001b[0m \u001b[0mt\u001b[0m\u001b[0;34m=\u001b[0m\u001b[0mt\u001b[0m\u001b[0;34m)\u001b[0m\u001b[0;34m\u001b[0m\u001b[0m\n\u001b[0m",
        "\u001b[0;32m/Users/danielallan/Documents/Repos/lmfit-py/lmfit/model.pyc\u001b[0m in \u001b[0;36mfit\u001b[0;34m(self, data, params, sigma, **kwargs)\u001b[0m\n\u001b[1;32m    173\u001b[0m         \u001b[0;31m# Handle null/missing values.\u001b[0m\u001b[0;34m\u001b[0m\u001b[0;34m\u001b[0m\u001b[0m\n\u001b[1;32m    174\u001b[0m         \u001b[0;32mif\u001b[0m \u001b[0mself\u001b[0m\u001b[0;34m.\u001b[0m\u001b[0mmissing\u001b[0m \u001b[0;34m!=\u001b[0m \u001b[0;34m'none'\u001b[0m\u001b[0;34m:\u001b[0m\u001b[0;34m\u001b[0m\u001b[0m\n\u001b[0;32m--> 175\u001b[0;31m             \u001b[0mmask\u001b[0m \u001b[0;34m=\u001b[0m \u001b[0mself\u001b[0m\u001b[0;34m.\u001b[0m\u001b[0m_handle_missing\u001b[0m\u001b[0;34m(\u001b[0m\u001b[0mdata\u001b[0m\u001b[0;34m)\u001b[0m  \u001b[0;31m# This can raise.\u001b[0m\u001b[0;34m\u001b[0m\u001b[0m\n\u001b[0m\u001b[1;32m    176\u001b[0m             \u001b[0mdata\u001b[0m \u001b[0;34m=\u001b[0m \u001b[0mdata\u001b[0m\u001b[0;34m[\u001b[0m\u001b[0mmask\u001b[0m\u001b[0;34m]\u001b[0m\u001b[0;34m\u001b[0m\u001b[0m\n\u001b[1;32m    177\u001b[0m             \u001b[0;32mfor\u001b[0m \u001b[0mvar\u001b[0m \u001b[0;32min\u001b[0m \u001b[0mself\u001b[0m\u001b[0;34m.\u001b[0m\u001b[0mindependent_vars\u001b[0m\u001b[0;34m:\u001b[0m\u001b[0;34m\u001b[0m\u001b[0m\n",
        "\u001b[0;32m/Users/danielallan/Documents/Repos/lmfit-py/lmfit/model.pyc\u001b[0m in \u001b[0;36m_handle_missing\u001b[0;34m(self, data)\u001b[0m\n\u001b[1;32m     97\u001b[0m         \u001b[0;32mif\u001b[0m \u001b[0mself\u001b[0m\u001b[0;34m.\u001b[0m\u001b[0mmissing\u001b[0m \u001b[0;34m==\u001b[0m \u001b[0;34m'raise'\u001b[0m\u001b[0;34m:\u001b[0m\u001b[0;34m\u001b[0m\u001b[0m\n\u001b[1;32m     98\u001b[0m             \u001b[0;32mif\u001b[0m \u001b[0mnp\u001b[0m\u001b[0;34m.\u001b[0m\u001b[0many\u001b[0m\u001b[0;34m(\u001b[0m\u001b[0misnull\u001b[0m\u001b[0;34m(\u001b[0m\u001b[0mdata\u001b[0m\u001b[0;34m)\u001b[0m\u001b[0;34m)\u001b[0m\u001b[0;34m:\u001b[0m\u001b[0;34m\u001b[0m\u001b[0m\n\u001b[0;32m---> 99\u001b[0;31m                 \u001b[0;32mraise\u001b[0m \u001b[0mValueError\u001b[0m\u001b[0;34m(\u001b[0m\u001b[0;34m\"Data contains a null value.\"\u001b[0m\u001b[0;34m)\u001b[0m\u001b[0;34m\u001b[0m\u001b[0m\n\u001b[0m\u001b[1;32m    100\u001b[0m         \u001b[0;32melif\u001b[0m \u001b[0mself\u001b[0m\u001b[0;34m.\u001b[0m\u001b[0mmissing\u001b[0m \u001b[0;34m==\u001b[0m \u001b[0;34m'drop'\u001b[0m\u001b[0;34m:\u001b[0m\u001b[0;34m\u001b[0m\u001b[0m\n\u001b[1;32m    101\u001b[0m             \u001b[0mmask\u001b[0m \u001b[0;34m=\u001b[0m \u001b[0;34m~\u001b[0m\u001b[0misnull\u001b[0m\u001b[0;34m(\u001b[0m\u001b[0mdata\u001b[0m\u001b[0;34m)\u001b[0m\u001b[0;34m\u001b[0m\u001b[0m\n",
        "\u001b[0;31mValueError\u001b[0m: Data contains a null value."
       ]
      }
     ],
     "prompt_number": 16
    },
    {
     "cell_type": "markdown",
     "metadata": {},
     "source": [
      "The default setting is ``missing='none'``, which does not check for NaNs. This interface is consistent with the ``statsmodels`` project.\n",
      "\n",
      "Null-chekcing  relies on ``pandas.isnull`` if it is available. If pandas cannot be imported, it silently falls back on ``numpy.isnan``."
     ]
    },
    {
     "cell_type": "markdown",
     "metadata": {},
     "source": [
      "### Pandas Compatibility"
     ]
    },
    {
     "cell_type": "markdown",
     "metadata": {},
     "source": [
      "Unlike most wrappers to ``scipy.leastsq``, ``Model`` handles pandas Series objects out of the box."
     ]
    },
    {
     "cell_type": "code",
     "collapsed": false,
     "input": [
      "from pandas import Series\n",
      "\n",
      "model = Model(decay, independent_vars=['t'])\n",
      "data = Series(data)\n",
      "result = model.fit(data, params, t=t)\n",
      "result.params"
     ],
     "language": "python",
     "metadata": {},
     "outputs": [
      {
       "metadata": {},
       "output_type": "pyout",
       "prompt_number": 17,
       "text": [
        "Parameters([('tau', <Parameter 'tau', value=3.0917922824129658 +/- 0.0698, bounds=[0:inf]>), ('N', <Parameter 'N', value=6.7455289209497611 +/- 0.087, bounds=[-inf:inf]>)])"
       ]
      }
     ],
     "prompt_number": 17
    },
    {
     "cell_type": "code",
     "collapsed": false,
     "input": [
      "model = Model(decay, independent_vars=['t'], missing='drop')\n",
      "data_with_holes = Series(data_with_holes)\n",
      "result = model.fit(data_with_holes, params, t=t)\n",
      "result.params"
     ],
     "language": "python",
     "metadata": {},
     "outputs": [
      {
       "metadata": {},
       "output_type": "pyout",
       "prompt_number": 18,
       "text": [
        "Parameters([('tau', <Parameter 'tau', value=3.0916521958295222 +/- 0.0702, bounds=[0:inf]>), ('N', <Parameter 'N', value=6.7458800490717028 +/- 0.0879, bounds=[-inf:inf]>)])"
       ]
      }
     ],
     "prompt_number": 18
    }
   ],
   "metadata": {}
  }
 ]
}