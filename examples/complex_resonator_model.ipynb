{
 "cells": [
  {
   "cell_type": "code",
   "execution_count": 1,
   "metadata": {
    "collapsed": false
   },
   "outputs": [
    {
     "name": "stdout",
     "output_type": "stream",
     "text": [
      "Populating the interactive namespace from numpy and matplotlib\n"
     ]
    }
   ],
   "source": [
    "%pylab inline"
   ]
  },
  {
   "cell_type": "code",
   "execution_count": 2,
   "metadata": {
    "collapsed": true
   },
   "outputs": [],
   "source": [
    "np.random.seed(123) # make this notebook reproduceable. "
   ]
  },
  {
   "cell_type": "code",
   "execution_count": 3,
   "metadata": {
    "collapsed": true
   },
   "outputs": [],
   "source": [
    "import lmfit"
   ]
  },
  {
   "cell_type": "markdown",
   "metadata": {},
   "source": [
    "Following Khalil et al. (http://arxiv.org/abs/1108.3117), we can model the forward transmission of a microwave resonator with total quality factor $Q$, coupling quality factor $Q_e$, and resonant frequency $f_0$ using:\n",
    "\n",
    "$$ S_{21}(f) = 1-\\frac{Q\\,Q_e^{-1}}{1+2jQ(f-f_0)/f_0} $$.\n",
    "\n",
    "$S_{21}$ is thus a complex function of a real frequency.\n",
    "\n",
    "By allowing $Q_e$ to be complex, this model can take into account mismatches in the input and output transmission impedances.\n",
    "\n",
    "Since `scipy.optimize` and `lmfit` require real parameters, we represent $Q_e$ as `Q_e_real + 1j*Q_e_imag`."
   ]
  },
  {
   "cell_type": "code",
   "execution_count": 4,
   "metadata": {
    "collapsed": true
   },
   "outputs": [],
   "source": [
    "def linear_resonator(f, f_0, Q, Q_e_real, Q_e_imag):\n",
    "    Q_e = Q_e_real + 1j*Q_e_imag\n",
    "    return (1 - (Q * Q_e**-1 /\n",
    "                     (1 + 2j * Q * (f - f_0) / f_0)))"
   ]
  },
  {
   "cell_type": "markdown",
   "metadata": {},
   "source": [
    "The standard practice of defining an `lmfit` model is as follows:"
   ]
  },
  {
   "cell_type": "code",
   "execution_count": 5,
   "metadata": {
    "collapsed": false
   },
   "outputs": [],
   "source": [
    "dict().pop('verbose',None)"
   ]
  },
  {
   "cell_type": "code",
   "execution_count": 6,
   "metadata": {
    "collapsed": true
   },
   "outputs": [],
   "source": [
    "class ResonatorModel(lmfit.model.Model):\n",
    "    __doc__ = \"resonator model\" + lmfit.models.COMMON_DOC\n",
    "    def __init__(self, *args, **kwargs):\n",
    "        # pass in the defining equation so the user doesn't have to later.\n",
    "        super(ResonatorModel, self).__init__(linear_resonator, *args, **kwargs)\n",
    "        \n",
    "        self.set_param_hint('Q', min = 0)  # Enforce Q is positive\n",
    "    \n",
    "    def guess(self, data, f=None, **kwargs):\n",
    "        verbose = kwargs.pop('verbose',None)\n",
    "        if f is None:\n",
    "            return\n",
    "        argmin_s21 = np.abs(data).argmin()\n",
    "        fmin = f.min()\n",
    "        fmax = f.max()\n",
    "        f_0_guess = f[argmin_s21] # guess that the resonance is the lowest point\n",
    "        Q_min = 0.1 * (f_0_guess/(fmax-fmin)) # assume the user isn't trying to fit just a small part of a resonance curve.\n",
    "        delta_f = np.diff(f) #assume f is sorted\n",
    "        min_delta_f = delta_f[delta_f>0].min()\n",
    "        Q_max = f_0_guess/min_delta_f # assume data actually samples the resonance reasonably\n",
    "        Q_guess = np.sqrt(Q_min*Q_max) # geometric mean, why not?\n",
    "        Q_e_real_guess = Q_guess/(1-np.abs(data[argmin_s21]))\n",
    "        if verbose:\n",
    "            print \"fmin=\",fmin,\"fmax=\",fmax,\"f_0_guess=\",f_0_guess\n",
    "            print \"Qmin=\",Q_min,\"Q_max=\",Q_max,\"Q_guess=\",Q_guess,\"Q_e_real_guess=\",Q_e_real_guess\n",
    "        params = self.make_params(Q=Q_guess, Q_e_real=Q_e_real_guess, Q_e_imag=0, f_0=f_0_guess)\n",
    "        params['%sQ' % self.prefix].set(min=Q_min, max=Q_max)\n",
    "        params['%sf_0' % self.prefix].set(min=fmin, max=fmax)\n",
    "        return lmfit.models.update_param_vals(params,self.prefix,**kwargs)"
   ]
  },
  {
   "cell_type": "markdown",
   "metadata": {},
   "source": [
    "Now let's use the model to generate some fake data"
   ]
  },
  {
   "cell_type": "code",
   "execution_count": 7,
   "metadata": {
    "collapsed": true
   },
   "outputs": [],
   "source": [
    "resonator = ResonatorModel()"
   ]
  },
  {
   "cell_type": "code",
   "execution_count": 8,
   "metadata": {
    "collapsed": true
   },
   "outputs": [],
   "source": [
    "true_params = resonator.make_params(f_0=100,Q=10000,Q_e_real=9000,Q_e_imag=-9000)"
   ]
  },
  {
   "cell_type": "code",
   "execution_count": 9,
   "metadata": {
    "collapsed": true
   },
   "outputs": [],
   "source": [
    "f = np.linspace(99.95,100.05,100)\n",
    "true_s21 = resonator.eval(params=true_params,f=f)\n",
    "noise_scale = 0.02\n",
    "measured_s21 = true_s21 + noise_scale*(np.random.randn(100) + 1j*np.random.randn(100))"
   ]
  },
  {
   "cell_type": "code",
   "execution_count": 10,
   "metadata": {
    "collapsed": false
   },
   "outputs": [
    {
     "data": {
      "text/plain": [
       "<matplotlib.text.Text at 0x7fae250e1b10>"
      ]
     },
     "execution_count": 10,
     "metadata": {},
     "output_type": "execute_result"
    },
    {
     "data": {
      "image/png": "[encoded data removed]",
      "text/plain": [
       "<matplotlib.figure.Figure at 0x7fae250edc10>"
      ]
     },
     "metadata": {},
     "output_type": "display_data"
    }
   ],
   "source": [
    "plot(f,20*np.log10(np.abs(measured_s21)))\n",
    "ylabel('|S21| (dB)')\n",
    "xlabel('MHz')\n",
    "title('simulated measurement')"
   ]
  },
  {
   "cell_type": "markdown",
   "metadata": {},
   "source": [
    "Try out the guess method we added:"
   ]
  },
  {
   "cell_type": "code",
   "execution_count": 11,
   "metadata": {
    "collapsed": false
   },
   "outputs": [
    {
     "name": "stdout",
     "output_type": "stream",
     "text": [
      "fmin= 99.95 fmax= 100.05 f_0_guess= 100.003535354\n",
      "Qmin= 100.003535354 Q_max= 99003.5000006 Q_guess= 3146.53778182 Q_e_real_guess= 5082.24742654\n"
     ]
    }
   ],
   "source": [
    "guess = resonator.guess(measured_s21,f=f,verbose=True)"
   ]
  },
  {
   "cell_type": "markdown",
   "metadata": {},
   "source": [
    "And now fit the data using the guess as a starting point:"
   ]
  },
  {
   "cell_type": "code",
   "execution_count": 12,
   "metadata": {
    "collapsed": true
   },
   "outputs": [],
   "source": [
    "result = resonator.fit(measured_s21,params=guess,f=f,verbose=True)"
   ]
  },
  {
   "cell_type": "code",
   "execution_count": 13,
   "metadata": {
    "collapsed": false
   },
   "outputs": [
    {
     "name": "stdout",
     "output_type": "stream",
     "text": [
      "[[Model]]\n",
      "    Model(linear_resonator)\n",
      "[[Fit Statistics]]\n",
      "    # function evals   = 38\n",
      "    # data points      = 200\n",
      "    # variables        = 4\n",
      "    chi-square         = 0.085\n",
      "    reduced chi-square = 0.000\n",
      "[[Variables]]\n",
      "    Q:          10059.4925 +/- 142.2947 (1.41%) (init= 3146.538)\n",
      "    f_0:        100.000095 +/- 7.04e-05 (0.00%) (init= 100.0035)\n",
      "    Q_e_real:   9180.61940 +/- 133.7768 (1.46%) (init= 5082.247)\n",
      "    Q_e_imag:  -9137.03297 +/- 133.7702 (1.46%) (init= 0)\n",
      "[[Correlations]] (unreported correlations are <  0.100)\n",
      "    C(Q, Q_e_real)               =  0.518 \n",
      "    C(f_0, Q_e_imag)             =  0.517 \n",
      "    C(f_0, Q_e_real)             =  0.515 \n",
      "    C(Q, Q_e_imag)               = -0.515 \n",
      "\n"
     ]
    }
   ],
   "source": [
    "print result.fit_report()"
   ]
  },
  {
   "cell_type": "markdown",
   "metadata": {},
   "source": [
    "Now we'll make some plots of the data and fit. Define a convenience function for plotting complex quantities"
   ]
  },
  {
   "cell_type": "code",
   "execution_count": 14,
   "metadata": {
    "collapsed": true
   },
   "outputs": [],
   "source": [
    "def plot_ri(data,*args,**kwargs):\n",
    "    plot(data.real,data.imag,*args,**kwargs)"
   ]
  },
  {
   "cell_type": "code",
   "execution_count": 15,
   "metadata": {
    "collapsed": true
   },
   "outputs": [],
   "source": [
    "fit_s21 = resonator.eval(params=result.params,f=f)\n",
    "guess_s21 = resonator.eval(params=guess,f=f)"
   ]
  },
  {
   "cell_type": "code",
   "execution_count": 16,
   "metadata": {
    "collapsed": false
   },
   "outputs": [
    {
     "data": {
      "text/plain": [
       "<matplotlib.text.Text at 0x7fae24fd1b90>"
      ]
     },
     "execution_count": 16,
     "metadata": {},
     "output_type": "execute_result"
    },
    {
     "data": {
      "image/png": "[encoded data removed]",
      "text/plain": [
       "<matplotlib.figure.Figure at 0x7fae250d7a50>"
      ]
     },
     "metadata": {},
     "output_type": "display_data"
    }
   ],
   "source": [
    "plot_ri(measured_s21,'.')\n",
    "plot_ri(fit_s21,'r.-')\n",
    "plot_ri(guess_s21,'k--')\n",
    "xlabel('Re(S21)')\n",
    "ylabel('Im(S21)')"
   ]
  },
  {
   "cell_type": "code",
   "execution_count": 17,
   "metadata": {
    "collapsed": false
   },
   "outputs": [
    {
     "data": {
      "text/plain": [
       "<matplotlib.text.Text at 0x7fae24f04790>"
      ]
     },
     "execution_count": 17,
     "metadata": {},
     "output_type": "execute_result"
    },
    {
     "data": {
      "image/png": "[encoded data removed]",
      "text/plain": [
       "<matplotlib.figure.Figure at 0x7fae24f51550>"
      ]
     },
     "metadata": {},
     "output_type": "display_data"
    }
   ],
   "source": [
    "plot(f,20*np.log10(np.abs(measured_s21)),'.')\n",
    "plot(f,20*np.log10(np.abs(fit_s21)),'r.-')\n",
    "plot(f,20*np.log10(np.abs(guess_s21)),'k--')\n",
    "ylabel('|S21| (dB)')\n",
    "xlabel('MHz')"
   ]
  },
  {
   "cell_type": "code",
   "execution_count": null,
   "metadata": {
    "collapsed": true
   },
   "outputs": [],
   "source": []
  }
 ],
 "metadata": {
  "kernelspec": {
   "display_name": "Python 2",
   "language": "python",
   "name": "python2"
  },
  "language_info": {
   "codemirror_mode": {
    "name": "ipython",
    "version": 2
   },
   "file_extension": ".py",
   "mimetype": "text/x-python",
   "name": "python",
   "nbconvert_exporter": "python",
   "pygments_lexer": "ipython2",
   "version": "2.7.11"
  }
 },
 "nbformat": 4,
 "nbformat_minor": 0
}
